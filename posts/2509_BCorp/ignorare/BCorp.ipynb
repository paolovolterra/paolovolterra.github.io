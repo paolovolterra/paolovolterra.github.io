{
 "cells": [
  {
   "cell_type": "markdown",
   "metadata": {
    "vscode": {
     "languageId": "plaintext"
    }
   },
   "source": [
    "# Le Società Benefit e B-Corp\n"
   ]
  },
  {
   "cell_type": "markdown",
   "metadata": {},
   "source": []
  },
  {
   "cell_type": "code",
   "execution_count": null,
   "metadata": {},
   "outputs": [],
   "source": [
    "url = 'https://www.societabenefit.net/elenco-delle-societa-benefit/'"
   ]
  },
  {
   "cell_type": "code",
   "execution_count": 5,
   "metadata": {},
   "outputs": [],
   "source": [
    "from bs4 import BeautifulSoup\n",
    "import requests\n",
    "import re\n",
    "import pandas as pd\n",
    "\n",
    "# URL della pagina web\n",
    "url = 'https://www.societabenefit.net/elenco-delle-societa-benefit/'\n",
    "\n",
    "# Scaricare il contenuto della pagina web\n",
    "response = requests.get(url)\n",
    "response.raise_for_status()  # Verifica eventuali errori nella richiesta\n",
    "html_content = response.text"
   ]
  },
  {
   "cell_type": "code",
   "execution_count": 6,
   "metadata": {},
   "outputs": [],
   "source": [
    "\n",
    "# Analizzare il contenuto HTML\n",
    "soup = BeautifulSoup(html_content, 'html.parser')\n",
    "\n",
    "# Estrarre le informazioni dalla classe \"entry\"\n",
    "entries = soup.find_all(class_=\"entry\")\n",
    "\n",
    "# Estrarre i nomi delle aziende e i dettagli\n",
    "companies_details = []\n",
    "for entry in entries:\n",
    "    # Estrarre il nome dell'azienda\n",
    "    label = entry.find(class_=\"label\")\n",
    "    company_name = label.get_text(strip=True) if label else \"Nome non trovato\"\n",
    "    \n",
    "    # Estrarre il contenuto delle finalità\n",
    "    content = entry.find(class_=\"contenuto-desc\")\n",
    "    objectives = content.get_text(strip=True) if content else \"Dettagli non trovati\"\n",
    "    \n",
    "    # Aggiungere ai risultati\n",
    "    companies_details.append({\"Azienda\": company_name, \"Finalità\": objectives})\n",
    "\n",
    "# Creare un DataFrame\n",
    "df = pd.DataFrame(companies_details)"
   ]
  },
  {
   "cell_type": "code",
   "execution_count": 16,
   "metadata": {},
   "outputs": [],
   "source": [
    "# Analizzare il contenuto HTML\n",
    "soup = BeautifulSoup(html_content, 'html.parser')\n",
    "\n",
    "# Estrarre le informazioni dalla classe \"entry\"\n",
    "entries = soup.find_all(class_=\"entry\")\n",
    "\n",
    "# Estrarre i nomi delle aziende, i dettagli e i link\n",
    "companies_details = []\n",
    "for entry in entries:\n",
    "    # Estrarre il nome dell'azienda\n",
    "    label = entry.find(class_=\"label\")\n",
    "    company_name = label.get_text(strip=True) if label else \"Nome non trovato\"\n",
    "    \n",
    "    # Estrarre il contenuto delle finalità\n",
    "    content = entry.find(class_=\"contenuto-desc\")\n",
    "    objectives = content.get_text(strip=True) if content else \"Dettagli non trovati\"\n",
    "        \n",
    "    # Aggiungere ai risultati\n",
    "    companies_details.append({\"Azienda\": company_name, \"Finalità\": objectives})\n",
    "\n",
    "# Creare un DataFrame\n",
    "df = pd.DataFrame(companies_details)"
   ]
  },
  {
   "cell_type": "code",
   "execution_count": 17,
   "metadata": {},
   "outputs": [
    {
     "data": {
      "text/html": [
       "<div>\n",
       "<style scoped>\n",
       "    .dataframe tbody tr th:only-of-type {\n",
       "        vertical-align: middle;\n",
       "    }\n",
       "\n",
       "    .dataframe tbody tr th {\n",
       "        vertical-align: top;\n",
       "    }\n",
       "\n",
       "    .dataframe thead th {\n",
       "        text-align: right;\n",
       "    }\n",
       "</style>\n",
       "<table border=\"1\" class=\"dataframe\">\n",
       "  <thead>\n",
       "    <tr style=\"text-align: right;\">\n",
       "      <th></th>\n",
       "      <th>Azienda</th>\n",
       "      <th>Finalità</th>\n",
       "    </tr>\n",
       "  </thead>\n",
       "  <tbody>\n",
       "    <tr>\n",
       "      <th>0</th>\n",
       "      <td>012factory SpA Soc. Benefit</td>\n",
       "      <td>Le seguenti specifiche finalità di beneficio c...</td>\n",
       "    </tr>\n",
       "    <tr>\n",
       "      <th>1</th>\n",
       "      <td>101 Solutions Srl Società Benefit</td>\n",
       "      <td>In qualità di Società Benefit, ai sensi e per ...</td>\n",
       "    </tr>\n",
       "    <tr>\n",
       "      <th>2</th>\n",
       "      <td>1010 One Object One Owner S.B. S.R.L.</td>\n",
       "      <td>Ai sensi e per gli effetti della legge 28 dice...</td>\n",
       "    </tr>\n",
       "    <tr>\n",
       "      <th>3</th>\n",
       "      <td>24Bottles Società Benefit Srl</td>\n",
       "      <td>IN QUALITA' DI SOCIETA' BENEFIT, AI SENSI E PE...</td>\n",
       "    </tr>\n",
       "    <tr>\n",
       "      <th>4</th>\n",
       "      <td>2MLAB S.A.S. SOCIETA' BENEFIT DI MANGHI MARCO ...</td>\n",
       "      <td>AI SENSI E PER GLI EFFETTI DELLA LEGGE 28 DICE...</td>\n",
       "    </tr>\n",
       "    <tr>\n",
       "      <th>...</th>\n",
       "      <td>...</td>\n",
       "      <td>...</td>\n",
       "    </tr>\n",
       "    <tr>\n",
       "      <th>776</th>\n",
       "      <td>Yves Rocher Italia Srl Società Benefit</td>\n",
       "      <td>In qualità di Società Benefit, ai sensi e per ...</td>\n",
       "    </tr>\n",
       "    <tr>\n",
       "      <th>777</th>\n",
       "      <td>ZEF SRL SB Unipersonale</td>\n",
       "      <td>In linea con quanto disposto dall’articolo 1, ...</td>\n",
       "    </tr>\n",
       "    <tr>\n",
       "      <th>778</th>\n",
       "      <td>Zelato di a.z. srl società benefit</td>\n",
       "      <td>Art. 4 = In qualità di Società Benefit, ai sen...</td>\n",
       "    </tr>\n",
       "    <tr>\n",
       "      <th>779</th>\n",
       "      <td>Zoppis Srl Società Benefit</td>\n",
       "      <td>La Società ritiene che il momento storico in c...</td>\n",
       "    </tr>\n",
       "    <tr>\n",
       "      <th>780</th>\n",
       "      <td>Zordan Srl SB e B Corp®</td>\n",
       "      <td>La società - entro i limiti e con le modalità ...</td>\n",
       "    </tr>\n",
       "  </tbody>\n",
       "</table>\n",
       "<p>781 rows × 2 columns</p>\n",
       "</div>"
      ],
      "text/plain": [
       "                                               Azienda  \\\n",
       "0                          012factory SpA Soc. Benefit   \n",
       "1                    101 Solutions Srl Società Benefit   \n",
       "2                1010 One Object One Owner S.B. S.R.L.   \n",
       "3                        24Bottles Società Benefit Srl   \n",
       "4    2MLAB S.A.S. SOCIETA' BENEFIT DI MANGHI MARCO ...   \n",
       "..                                                 ...   \n",
       "776             Yves Rocher Italia Srl Società Benefit   \n",
       "777                            ZEF SRL SB Unipersonale   \n",
       "778                 Zelato di a.z. srl società benefit   \n",
       "779                         Zoppis Srl Società Benefit   \n",
       "780                            Zordan Srl SB e B Corp®   \n",
       "\n",
       "                                              Finalità  \n",
       "0    Le seguenti specifiche finalità di beneficio c...  \n",
       "1    In qualità di Società Benefit, ai sensi e per ...  \n",
       "2    Ai sensi e per gli effetti della legge 28 dice...  \n",
       "3    IN QUALITA' DI SOCIETA' BENEFIT, AI SENSI E PE...  \n",
       "4    AI SENSI E PER GLI EFFETTI DELLA LEGGE 28 DICE...  \n",
       "..                                                 ...  \n",
       "776  In qualità di Società Benefit, ai sensi e per ...  \n",
       "777  In linea con quanto disposto dall’articolo 1, ...  \n",
       "778  Art. 4 = In qualità di Società Benefit, ai sen...  \n",
       "779  La Società ritiene che il momento storico in c...  \n",
       "780  La società - entro i limiti e con le modalità ...  \n",
       "\n",
       "[781 rows x 2 columns]"
      ]
     },
     "execution_count": 17,
     "metadata": {},
     "output_type": "execute_result"
    }
   ],
   "source": [
    "df"
   ]
  },
  {
   "cell_type": "code",
   "execution_count": 18,
   "metadata": {},
   "outputs": [],
   "source": [
    "df.to_csv('D:/ElencoBenefit.csv', index=False, sep='\\t')"
   ]
  },
  {
   "cell_type": "code",
   "execution_count": null,
   "metadata": {},
   "outputs": [],
   "source": []
  }
 ],
 "metadata": {
  "kernelspec": {
   "display_name": "Python 3",
   "language": "python",
   "name": "python3"
  },
  "language_info": {
   "codemirror_mode": {
    "name": "ipython",
    "version": 3
   },
   "file_extension": ".py",
   "mimetype": "text/x-python",
   "name": "python",
   "nbconvert_exporter": "python",
   "pygments_lexer": "ipython3",
   "version": "3.13.1"
  }
 },
 "nbformat": 4,
 "nbformat_minor": 2
}
