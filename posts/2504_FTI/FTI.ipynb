{
 "cells": [
  {
   "cell_type": "markdown",
   "metadata": {},
   "source": [
    "# Fondo transizione industriale"
   ]
  },
  {
   "cell_type": "code",
   "execution_count": 2,
   "metadata": {},
   "outputs": [],
   "source": [
    "import pyarrow.parquet as pq\n",
    "import pandas as pd\n",
    "import duckdb\n",
    "import os\n",
    "os.chdir('D:/duckdb/files/RNA2/')\n",
    "\n",
    "con = duckdb.connect()\n",
    "con.execute(\"PRAGMA threads=8\")\n",
    "con.execute(\"PRAGMA enable_object_cache\") \n",
    "pd.options.display.float_format = '{:,}'.format\n",
    "df =(con.execute(\"SELECT * FROM '*.parquet' where CAR = '27929' order by concessione desc\").df())"
   ]
  },
  {
   "cell_type": "code",
   "execution_count": 17,
   "metadata": {},
   "outputs": [
    {
     "data": {
      "text/plain": [
       "37.66737432000001"
      ]
     },
     "execution_count": 17,
     "metadata": {},
     "output_type": "execute_result"
    }
   ],
   "source": [
    "df['NOMINALE'].sum()/1000000\n"
   ]
  },
  {
   "cell_type": "code",
   "execution_count": 15,
   "metadata": {},
   "outputs": [
    {
     "data": {
      "text/html": [
       "<div>\n",
       "<style scoped>\n",
       "    .dataframe tbody tr th:only-of-type {\n",
       "        vertical-align: middle;\n",
       "    }\n",
       "\n",
       "    .dataframe tbody tr th {\n",
       "        vertical-align: top;\n",
       "    }\n",
       "\n",
       "    .dataframe thead th {\n",
       "        text-align: right;\n",
       "    }\n",
       "</style>\n",
       "<table border=\"1\" class=\"dataframe\">\n",
       "  <thead>\n",
       "    <tr style=\"text-align: right;\">\n",
       "      <th></th>\n",
       "      <th>CAR</th>\n",
       "      <th>MISURA</th>\n",
       "      <th>COD_CE_MISURA</th>\n",
       "      <th>BASE_GIURIDICA_NAZIONALE</th>\n",
       "      <th>CONCEDENTE</th>\n",
       "      <th>COR</th>\n",
       "      <th>TITOLO_PROGETTO</th>\n",
       "      <th>DESCRIZIONE_PROGETTO</th>\n",
       "      <th>CONCESSIONE</th>\n",
       "      <th>ATTO_CONCESSIONE</th>\n",
       "      <th>...</th>\n",
       "      <th>CF</th>\n",
       "      <th>DES_TIPO_BENEFICIARIO</th>\n",
       "      <th>REGIONE</th>\n",
       "      <th>ID_COMPONENTE_AIUTO</th>\n",
       "      <th>DES_PROCEDIMENTO</th>\n",
       "      <th>DESSETTORE_ATTIVITA_OBIETTIVO</th>\n",
       "      <th>SETTORE_ATTIVITA</th>\n",
       "      <th>DES_STRUMENTO</th>\n",
       "      <th>AIUTO</th>\n",
       "      <th>NOMINALE</th>\n",
       "    </tr>\n",
       "  </thead>\n",
       "  <tbody>\n",
       "    <tr>\n",
       "      <th>0</th>\n",
       "      <td>27929</td>\n",
       "      <td>Fondo per il sostegno alla transizione industr...</td>\n",
       "      <td>SA.110221</td>\n",
       "      <td>Decreto interministeriale 21 ottobre 2022 - Fo...</td>\n",
       "      <td>INVITALIA - AGENZIA NAZIONALE PER L'ATTRAZIONE...</td>\n",
       "      <td>23265345</td>\n",
       "      <td>ENERGY CONSUMPTION SAVINGS</td>\n",
       "      <td>Il progetto si compone dei seguenti interventi...</td>\n",
       "      <td>2025-01-21</td>\n",
       "      <td>Delibera</td>\n",
       "      <td>...</td>\n",
       "      <td>00717800247</td>\n",
       "      <td>Grande impresa</td>\n",
       "      <td>Toscana</td>\n",
       "      <td>25852888</td>\n",
       "      <td>Esenzione</td>\n",
       "      <td>Aiuti per la tutela dell'ambiente | Aiuti agli...</td>\n",
       "      <td>C.23.1</td>\n",
       "      <td>Sovvenzione/Contributo in conto interessi</td>\n",
       "      <td>1,764,900.0</td>\n",
       "      <td>1,764,900.0</td>\n",
       "    </tr>\n",
       "    <tr>\n",
       "      <th>1</th>\n",
       "      <td>27929</td>\n",
       "      <td>Fondo per il sostegno alla transizione industr...</td>\n",
       "      <td>SA.110221</td>\n",
       "      <td>Decreto interministeriale 21 ottobre 2022 - Fo...</td>\n",
       "      <td>INVITALIA - AGENZIA NAZIONALE PER L'ATTRAZIONE...</td>\n",
       "      <td>23265345</td>\n",
       "      <td>ENERGY CONSUMPTION SAVINGS</td>\n",
       "      <td>Il progetto si compone dei seguenti interventi...</td>\n",
       "      <td>2025-01-21</td>\n",
       "      <td>Delibera</td>\n",
       "      <td>...</td>\n",
       "      <td>00717800247</td>\n",
       "      <td>Grande impresa</td>\n",
       "      <td>Toscana</td>\n",
       "      <td>25852887</td>\n",
       "      <td>Esenzione</td>\n",
       "      <td>Aiuti per la tutela dell'ambiente | Aiuti agli...</td>\n",
       "      <td>C.23.1</td>\n",
       "      <td>Sovvenzione/Contributo in conto interessi</td>\n",
       "      <td>1,667,738.0</td>\n",
       "      <td>1,667,738.0</td>\n",
       "    </tr>\n",
       "    <tr>\n",
       "      <th>2</th>\n",
       "      <td>27929</td>\n",
       "      <td>Fondo per il sostegno alla transizione industr...</td>\n",
       "      <td>SA.110221</td>\n",
       "      <td>Decreto interministeriale 21 ottobre 2022 - Fo...</td>\n",
       "      <td>INVITALIA - AGENZIA NAZIONALE PER L'ATTRAZIONE...</td>\n",
       "      <td>23265342</td>\n",
       "      <td>WATER CONSUMPTION SAVINGS</td>\n",
       "      <td>Il progetto prevede la realizzazione di una va...</td>\n",
       "      <td>2025-01-21</td>\n",
       "      <td>Delibera</td>\n",
       "      <td>...</td>\n",
       "      <td>00717800247</td>\n",
       "      <td>Grande impresa</td>\n",
       "      <td>Toscana</td>\n",
       "      <td>25852886</td>\n",
       "      <td>Esenzione</td>\n",
       "      <td>Aiuti per la tutela dell'ambiente | Aiuti agli...</td>\n",
       "      <td>C.23.1</td>\n",
       "      <td>Sovvenzione/Contributo in conto interessi</td>\n",
       "      <td>1,092,383.6</td>\n",
       "      <td>1,092,383.6</td>\n",
       "    </tr>\n",
       "    <tr>\n",
       "      <th>3</th>\n",
       "      <td>27929</td>\n",
       "      <td>Fondo per il sostegno alla transizione industr...</td>\n",
       "      <td>SA.110221</td>\n",
       "      <td>Decreto interministeriale 21 ottobre 2022 - Fo...</td>\n",
       "      <td>INVITALIA - AGENZIA NAZIONALE PER L'ATTRAZIONE...</td>\n",
       "      <td>23257872</td>\n",
       "      <td>Progetto efficentamento energetico</td>\n",
       "      <td>Progetto costituito da tre interventi per  la ...</td>\n",
       "      <td>2025-01-08</td>\n",
       "      <td>Delibera</td>\n",
       "      <td>...</td>\n",
       "      <td>00712180165</td>\n",
       "      <td>Grande impresa</td>\n",
       "      <td>Lombardia</td>\n",
       "      <td>25843691</td>\n",
       "      <td>Esenzione</td>\n",
       "      <td>Aiuti per la tutela dell'ambiente | Aiuti agli...</td>\n",
       "      <td>C.21.1</td>\n",
       "      <td>Sovvenzione/Contributo in conto interessi</td>\n",
       "      <td>1,072,542.6</td>\n",
       "      <td>1,072,542.6</td>\n",
       "    </tr>\n",
       "    <tr>\n",
       "      <th>4</th>\n",
       "      <td>27929</td>\n",
       "      <td>Fondo per il sostegno alla transizione industr...</td>\n",
       "      <td>SA.110221</td>\n",
       "      <td>Decreto interministeriale 21 ottobre 2022 - Fo...</td>\n",
       "      <td>INVITALIA - AGENZIA NAZIONALE PER L'ATTRAZIONE...</td>\n",
       "      <td>23257872</td>\n",
       "      <td>Progetto efficentamento energetico</td>\n",
       "      <td>Progetto costituito da tre interventi per  la ...</td>\n",
       "      <td>2025-01-08</td>\n",
       "      <td>Delibera</td>\n",
       "      <td>...</td>\n",
       "      <td>00712180165</td>\n",
       "      <td>Grande impresa</td>\n",
       "      <td>Lombardia</td>\n",
       "      <td>25843689</td>\n",
       "      <td>Esenzione</td>\n",
       "      <td>Aiuti per la tutela dell'ambiente | Aiuti agli...</td>\n",
       "      <td>C.21.1</td>\n",
       "      <td>Sovvenzione/Contributo in conto interessi</td>\n",
       "      <td>1,145,144.7</td>\n",
       "      <td>1,145,144.7</td>\n",
       "    </tr>\n",
       "  </tbody>\n",
       "</table>\n",
       "<p>5 rows × 21 columns</p>\n",
       "</div>"
      ],
      "text/plain": [
       "     CAR                                             MISURA COD_CE_MISURA  \\\n",
       "0  27929  Fondo per il sostegno alla transizione industr...     SA.110221   \n",
       "1  27929  Fondo per il sostegno alla transizione industr...     SA.110221   \n",
       "2  27929  Fondo per il sostegno alla transizione industr...     SA.110221   \n",
       "3  27929  Fondo per il sostegno alla transizione industr...     SA.110221   \n",
       "4  27929  Fondo per il sostegno alla transizione industr...     SA.110221   \n",
       "\n",
       "                            BASE_GIURIDICA_NAZIONALE  \\\n",
       "0  Decreto interministeriale 21 ottobre 2022 - Fo...   \n",
       "1  Decreto interministeriale 21 ottobre 2022 - Fo...   \n",
       "2  Decreto interministeriale 21 ottobre 2022 - Fo...   \n",
       "3  Decreto interministeriale 21 ottobre 2022 - Fo...   \n",
       "4  Decreto interministeriale 21 ottobre 2022 - Fo...   \n",
       "\n",
       "                                          CONCEDENTE       COR  \\\n",
       "0  INVITALIA - AGENZIA NAZIONALE PER L'ATTRAZIONE...  23265345   \n",
       "1  INVITALIA - AGENZIA NAZIONALE PER L'ATTRAZIONE...  23265345   \n",
       "2  INVITALIA - AGENZIA NAZIONALE PER L'ATTRAZIONE...  23265342   \n",
       "3  INVITALIA - AGENZIA NAZIONALE PER L'ATTRAZIONE...  23257872   \n",
       "4  INVITALIA - AGENZIA NAZIONALE PER L'ATTRAZIONE...  23257872   \n",
       "\n",
       "                      TITOLO_PROGETTO  \\\n",
       "0          ENERGY CONSUMPTION SAVINGS   \n",
       "1          ENERGY CONSUMPTION SAVINGS   \n",
       "2           WATER CONSUMPTION SAVINGS   \n",
       "3  Progetto efficentamento energetico   \n",
       "4  Progetto efficentamento energetico   \n",
       "\n",
       "                                DESCRIZIONE_PROGETTO CONCESSIONE  \\\n",
       "0  Il progetto si compone dei seguenti interventi...  2025-01-21   \n",
       "1  Il progetto si compone dei seguenti interventi...  2025-01-21   \n",
       "2  Il progetto prevede la realizzazione di una va...  2025-01-21   \n",
       "3  Progetto costituito da tre interventi per  la ...  2025-01-08   \n",
       "4  Progetto costituito da tre interventi per  la ...  2025-01-08   \n",
       "\n",
       "  ATTO_CONCESSIONE  ...           CF DES_TIPO_BENEFICIARIO    REGIONE  \\\n",
       "0         Delibera  ...  00717800247        Grande impresa    Toscana   \n",
       "1         Delibera  ...  00717800247        Grande impresa    Toscana   \n",
       "2         Delibera  ...  00717800247        Grande impresa    Toscana   \n",
       "3         Delibera  ...  00712180165        Grande impresa  Lombardia   \n",
       "4         Delibera  ...  00712180165        Grande impresa  Lombardia   \n",
       "\n",
       "  ID_COMPONENTE_AIUTO DES_PROCEDIMENTO  \\\n",
       "0            25852888        Esenzione   \n",
       "1            25852887        Esenzione   \n",
       "2            25852886        Esenzione   \n",
       "3            25843691        Esenzione   \n",
       "4            25843689        Esenzione   \n",
       "\n",
       "                       DESSETTORE_ATTIVITA_OBIETTIVO SETTORE_ATTIVITA  \\\n",
       "0  Aiuti per la tutela dell'ambiente | Aiuti agli...           C.23.1   \n",
       "1  Aiuti per la tutela dell'ambiente | Aiuti agli...           C.23.1   \n",
       "2  Aiuti per la tutela dell'ambiente | Aiuti agli...           C.23.1   \n",
       "3  Aiuti per la tutela dell'ambiente | Aiuti agli...           C.21.1   \n",
       "4  Aiuti per la tutela dell'ambiente | Aiuti agli...           C.21.1   \n",
       "\n",
       "                               DES_STRUMENTO       AIUTO    NOMINALE  \n",
       "0  Sovvenzione/Contributo in conto interessi 1,764,900.0 1,764,900.0  \n",
       "1  Sovvenzione/Contributo in conto interessi 1,667,738.0 1,667,738.0  \n",
       "2  Sovvenzione/Contributo in conto interessi 1,092,383.6 1,092,383.6  \n",
       "3  Sovvenzione/Contributo in conto interessi 1,072,542.6 1,072,542.6  \n",
       "4  Sovvenzione/Contributo in conto interessi 1,145,144.7 1,145,144.7  \n",
       "\n",
       "[5 rows x 21 columns]"
      ]
     },
     "execution_count": 15,
     "metadata": {},
     "output_type": "execute_result"
    }
   ],
   "source": [
    "df.head()"
   ]
  },
  {
   "cell_type": "code",
   "execution_count": 10,
   "metadata": {},
   "outputs": [
    {
     "name": "stdout",
     "output_type": "stream",
     "text": [
      "Requirement already satisfied: pyperclip in c:\\users\\pvolterr\\appdata\\local\\programs\\python\\python311\\lib\\site-packages (1.8.2)Note: you may need to restart the kernel to use updated packages.\n",
      "\n"
     ]
    }
   ],
   "source": []
  },
  {
   "cell_type": "code",
   "execution_count": 12,
   "metadata": {},
   "outputs": [
    {
     "name": "stdout",
     "output_type": "stream",
     "text": [
      "|       | CONCESSIONE                |            AIUTO |         NOMINALE |\n",
      "|:------|:---------------------------|-----------------:|-----------------:|\n",
      "| count | 42                         |     42           |     42           |\n",
      "| mean  | 2024-12-15 04:34:17.142857 | 896842           | 896842           |\n",
      "| min   | 2024-11-21 00:00:00        |   6654           |   6654           |\n",
      "| 25%   | 2024-12-05 06:00:00        | 324975           | 324975           |\n",
      "| 50%   | 2024-12-10 00:00:00        | 719529           | 719529           |\n",
      "| 75%   | 2024-12-21 00:00:00        |      1.28083e+06 |      1.28083e+06 |\n",
      "| max   | 2025-01-21 00:00:00        |      3.58136e+06 |      3.58136e+06 |\n",
      "| std   | nan                        | 777162           | 777162           |\n"
     ]
    }
   ],
   "source": [
    "# pip install pyperclip\n",
    "import pyperclip\n",
    "\n",
    "\n",
    "# Generare la descrizione statistica\n",
    "desc = df.describe()\n",
    "\n",
    "# Convertire in Markdown\n",
    "markdown_table = desc.to_markdown()\n",
    "\n",
    "# Copiare negli appunti\n",
    "desc.to_clipboard(excel=False)\n",
    "\n",
    "# Stampare l'output Markdown (opzionale)\n",
    "print(markdown_table)"
   ]
  },
  {
   "cell_type": "code",
   "execution_count": 13,
   "metadata": {},
   "outputs": [
    {
     "data": {
      "text/plain": [
       "<Axes: >"
      ]
     },
     "execution_count": 13,
     "metadata": {},
     "output_type": "execute_result"
    },
    {
     "data": {
      "image/png": "[encoded data removed]",
      "text/plain": [
       "<Figure size 640x480 with 1 Axes>"
      ]
     },
     "metadata": {},
     "output_type": "display_data"
    }
   ],
   "source": [
    "df['NOMINALE'].hist()"
   ]
  },
  {
   "cell_type": "code",
   "execution_count": 14,
   "metadata": {},
   "outputs": [
    {
     "data": {
      "text/plain": [
       "count                 42.0\n",
       "mean    896,842.2457142859\n",
       "std      777,161.938712291\n",
       "min                6,654.0\n",
       "25%              324,975.0\n",
       "50%            719,529.175\n",
       "75%         1,280,833.2475\n",
       "max           3,581,357.84\n",
       "Name: NOMINALE, dtype: float64"
      ]
     },
     "execution_count": 14,
     "metadata": {},
     "output_type": "execute_result"
    }
   ],
   "source": [
    "df['NOMINALE'].describe()"
   ]
  },
  {
   "cell_type": "code",
   "execution_count": 18,
   "metadata": {},
   "outputs": [
    {
     "name": "stderr",
     "output_type": "stream",
     "text": [
      "C:\\Users\\PVolterr\\AppData\\Roaming\\Python\\Python311\\site-packages\\seaborn\\_oldcore.py:1119: FutureWarning: use_inf_as_na option is deprecated and will be removed in a future version. Convert inf values to NaN before operating instead.\n",
      "  with pd.option_context('mode.use_inf_as_na', True):\n"
     ]
    },
    {
     "data": {
      "image/png": "[encoded data removed]",
      "text/plain": [
       "<Figure size 800x500 with 1 Axes>"
      ]
     },
     "metadata": {},
     "output_type": "display_data"
    }
   ],
   "source": [
    "import seaborn as sns\n",
    "import matplotlib.pyplot as plt\n",
    "\n",
    "\n",
    "# Creare l'istogramma con Seaborn\n",
    "sns.set_style(\"whitegrid\")  # Stile estetico\n",
    "plt.figure(figsize=(8, 5))  # Dimensione del grafico\n",
    "sns.histplot(df[\"NOMINALE\"], bins=10, kde=True, color=\"royalblue\")\n",
    "\n",
    "# Titoli e etichette\n",
    "plt.title(\"Distribuzione della variabile NOMINALE\", fontsize=14)\n",
    "plt.xlabel(\"Valori di NOMINALE\")\n",
    "plt.ylabel(\"Frequenza\")\n",
    "\n",
    "# Mostrare il grafico\n",
    "plt.show()\n"
   ]
  },
  {
   "cell_type": "code",
   "execution_count": 19,
   "metadata": {},
   "outputs": [
    {
     "name": "stderr",
     "output_type": "stream",
     "text": [
      "C:\\Users\\PVolterr\\AppData\\Roaming\\Python\\Python311\\site-packages\\seaborn\\_oldcore.py:1119: FutureWarning: use_inf_as_na option is deprecated and will be removed in a future version. Convert inf values to NaN before operating instead.\n",
      "  with pd.option_context('mode.use_inf_as_na', True):\n"
     ]
    },
    {
     "data": {
      "image/png": "[encoded data removed]",
      "text/plain": [
       "<Figure size 800x500 with 1 Axes>"
      ]
     },
     "metadata": {},
     "output_type": "display_data"
    }
   ],
   "source": [
    "# Creare il grafico\n",
    "sns.set_style(\"whitegrid\")  # Stile estetico\n",
    "fig, ax = plt.subplots(figsize=(8, 5))  # Dimensione del grafico\n",
    "\n",
    "# Istogramma con colore personalizzato\n",
    "sns.histplot(df[\"NOMINALE\"], bins=10, kde=True, color=\"#007a53\", linewidth=1.5, ax=ax)\n",
    "\n",
    "# Titoli e etichette\n",
    "ax.set_title(\"Distribuzione della variabile NOMINALE\", fontsize=14)\n",
    "ax.set_xlabel(\"Valori di NOMINALE\")\n",
    "ax.set_ylabel(\"Frequenza\")\n",
    "\n",
    "# Mostrare il grafico\n",
    "plt.show()"
   ]
  },
  {
   "cell_type": "code",
   "execution_count": 21,
   "metadata": {},
   "outputs": [
    {
     "data": {
      "text/plain": [
       "['ACCIAIERIE DI VERONA S.P.A.',\n",
       " 'BARILLA G. E R. FRATELLI - SOCIETA&#39; PER AZIONI',\n",
       " 'BOTTO GIUSEPPE E FIGLI - S.P.A.',\n",
       " 'BUZZI UNICEM S.R.L.',\n",
       " 'CARTIERA DEL VIGNALETTO S.R.L.',\n",
       " 'FA.IN.PLAST. - FARAOTTI INDUSTRIE PLASTICHE - S.R.L. PIU&#39; BREVEMENTE FAINPLAST S.R.L.',\n",
       " 'FINCHIMICA S.P.A.',\n",
       " 'IN.AL.PI. S.P.A.',\n",
       " 'INDENA SPA',\n",
       " 'ITALCHIMICA S.R.L.',\n",
       " 'MANUCOR S.P.A.',\n",
       " 'MODINE CIS ITALY S.R.L.',\n",
       " 'OCV ITALIA S.R.L.',\n",
       " 'RIFINIZIONE*S. STEFANO S.P.A.',\n",
       " 'SKF INDUSTRIE  S.P.A.',\n",
       " 'SKF INDUSTRIE S.P.A.',\n",
       " 'TEKSID ALUMINUM S.R.L.',\n",
       " 'VINAVIL SPA',\n",
       " 'ZIGNAGO VETRO S.P.A. CON LA SIGLA Z.V. S.P.A.']"
      ]
     },
     "execution_count": 21,
     "metadata": {},
     "output_type": "execute_result"
    }
   ],
   "source": [
    "sorted(df['IMPRESA'].unique().tolist())\n"
   ]
  },
  {
   "cell_type": "code",
   "execution_count": 24,
   "metadata": {},
   "outputs": [
    {
     "name": "stdout",
     "output_type": "stream",
     "text": [
      "ACCIAIERIE DI VERONA S.P.A., BARILLA G. E R. FRATELLI - SOCIETA' PER AZIONI, BOTTO GIUSEPPE E FIGLI - S.P.A., BUZZI UNICEM S.R.L., CARTIERA DEL VIGNALETTO S.R.L., FA.IN.PLAST. - FARAOTTI INDUSTRIE PLASTICHE - S.R.L. PIU' BREVEMENTE FAINPLAST S.R.L., FINCHIMICA S.P.A., IN.AL.PI. S.P.A., INDENA SPA, ITALCHIMICA S.R.L., MANUCOR S.P.A., MODINE CIS ITALY S.R.L., OCV ITALIA S.R.L., RIFINIZIONE*S. STEFANO S.P.A., SKF INDUSTRIE  S.P.A., SKF INDUSTRIE S.P.A., TEKSID ALUMINUM S.R.L., VINAVIL SPA, ZIGNAGO VETRO S.P.A. CON LA SIGLA Z.V. S.P.A.\n"
     ]
    }
   ],
   "source": [
    "# Estrarre i valori unici, ordinarli e scriverli di seguito\n",
    "impresa_str = \", \".join(sorted(df['IMPRESA'].dropna().unique().tolist()))\n",
    "\n",
    "# Stampare il risultato\n",
    "print(impresa_str)"
   ]
  }
 ],
 "metadata": {
  "kernelspec": {
   "display_name": "Python 3",
   "language": "python",
   "name": "python3"
  },
  "language_info": {
   "codemirror_mode": {
    "name": "ipython",
    "version": 3
   },
   "file_extension": ".py",
   "mimetype": "text/x-python",
   "name": "python",
   "nbconvert_exporter": "python",
   "pygments_lexer": "ipython3",
   "version": "3.11.4"
  }
 },
 "nbformat": 4,
 "nbformat_minor": 2
}
